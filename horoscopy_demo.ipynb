{
  "nbformat": 4,
  "nbformat_minor": 0,
  "metadata": {
    "colab": {
      "provenance": [],
      "authorship_tag": "ABX9TyO4pLBfPoPK+bTZbMviXID6",
      "include_colab_link": true
    },
    "kernelspec": {
      "name": "python3",
      "display_name": "Python 3"
    },
    "language_info": {
      "name": "python"
    }
  },
  "cells": [
    {
      "cell_type": "markdown",
      "metadata": {
        "id": "view-in-github",
        "colab_type": "text"
      },
      "source": [
        "<a href=\"https://colab.research.google.com/github/i-kumitaka/HoroscoPy/blob/master/horoscopy_demo.ipynb\" target=\"_parent\"><img src=\"https://colab.research.google.com/assets/colab-badge.svg\" alt=\"Open In Colab\"/></a>"
      ]
    },
    {
      "cell_type": "markdown",
      "source": [
        "## Preparation"
      ],
      "metadata": {
        "id": "PDE7aPAyQoys"
      }
    },
    {
      "cell_type": "code",
      "execution_count": 3,
      "metadata": {
        "colab": {
          "base_uri": "https://localhost:8080/"
        },
        "id": "VfCdIMjGk3mG",
        "outputId": "6e5e14b5-2ba5-40d6-fc65-4637a7807bc9"
      },
      "outputs": [
        {
          "output_type": "stream",
          "name": "stdout",
          "text": [
            "Cloning into 'HoroscoPy'...\n",
            "remote: Enumerating objects: 2606, done.\u001b[K\n",
            "remote: Counting objects:   0% (1/2606)\u001b[K\rremote: Counting objects:   1% (27/2606)\u001b[K\rremote: Counting objects:   2% (53/2606)\u001b[K\rremote: Counting objects:   3% (79/2606)\u001b[K\rremote: Counting objects:   4% (105/2606)\u001b[K\rremote: Counting objects:   5% (131/2606)\u001b[K\rremote: Counting objects:   6% (157/2606)\u001b[K\rremote: Counting objects:   7% (183/2606)\u001b[K\rremote: Counting objects:   8% (209/2606)\u001b[K\rremote: Counting objects:   9% (235/2606)\u001b[K\rremote: Counting objects:  10% (261/2606)\u001b[K\rremote: Counting objects:  11% (287/2606)\u001b[K\rremote: Counting objects:  12% (313/2606)\u001b[K\rremote: Counting objects:  13% (339/2606)\u001b[K\rremote: Counting objects:  14% (365/2606)\u001b[K\rremote: Counting objects:  15% (391/2606)\u001b[K\rremote: Counting objects:  16% (417/2606)\u001b[K\rremote: Counting objects:  17% (444/2606)\u001b[K\rremote: Counting objects:  18% (470/2606)\u001b[K\rremote: Counting objects:  19% (496/2606)\u001b[K\rremote: Counting objects:  20% (522/2606)\u001b[K\rremote: Counting objects:  21% (548/2606)\u001b[K\rremote: Counting objects:  22% (574/2606)\u001b[K\rremote: Counting objects:  23% (600/2606)\u001b[K\rremote: Counting objects:  24% (626/2606)\u001b[K\rremote: Counting objects:  25% (652/2606)\u001b[K\rremote: Counting objects:  26% (678/2606)\u001b[K\rremote: Counting objects:  27% (704/2606)\u001b[K\rremote: Counting objects:  28% (730/2606)\u001b[K\rremote: Counting objects:  29% (756/2606)\u001b[K\rremote: Counting objects:  30% (782/2606)\u001b[K\rremote: Counting objects:  31% (808/2606)\u001b[K\rremote: Counting objects:  32% (834/2606)\u001b[K\rremote: Counting objects:  33% (860/2606)\u001b[K\rremote: Counting objects:  34% (887/2606)\u001b[K\rremote: Counting objects:  35% (913/2606)\u001b[K\rremote: Counting objects:  36% (939/2606)\u001b[K\rremote: Counting objects:  37% (965/2606)\u001b[K\rremote: Counting objects:  38% (991/2606)\u001b[K\rremote: Counting objects:  39% (1017/2606)\u001b[K\rremote: Counting objects:  40% (1043/2606)\u001b[K\rremote: Counting objects:  41% (1069/2606)\u001b[K\rremote: Counting objects:  42% (1095/2606)\u001b[K\rremote: Counting objects:  43% (1121/2606)\u001b[K\rremote: Counting objects:  44% (1147/2606)\u001b[K\rremote: Counting objects:  45% (1173/2606)\u001b[K\rremote: Counting objects:  46% (1199/2606)\u001b[K\rremote: Counting objects:  47% (1225/2606)\u001b[K\rremote: Counting objects:  48% (1251/2606)\u001b[K\rremote: Counting objects:  49% (1277/2606)\u001b[K\rremote: Counting objects:  50% (1303/2606)\u001b[K\rremote: Counting objects:  51% (1330/2606)\u001b[K\rremote: Counting objects:  52% (1356/2606)\u001b[K\rremote: Counting objects:  53% (1382/2606)\u001b[K\rremote: Counting objects:  54% (1408/2606)\u001b[K\rremote: Counting objects:  55% (1434/2606)\u001b[K\rremote: Counting objects:  56% (1460/2606)\u001b[K\rremote: Counting objects:  57% (1486/2606)\u001b[K\rremote: Counting objects:  58% (1512/2606)\u001b[K\rremote: Counting objects:  59% (1538/2606)\u001b[K\rremote: Counting objects:  60% (1564/2606)\u001b[K\rremote: Counting objects:  61% (1590/2606)\u001b[K\rremote: Counting objects:  62% (1616/2606)\u001b[K\rremote: Counting objects:  63% (1642/2606)\u001b[K\rremote: Counting objects:  64% (1668/2606)\u001b[K\rremote: Counting objects:  65% (1694/2606)\u001b[K\rremote: Counting objects:  66% (1720/2606)\u001b[K\rremote: Counting objects:  67% (1747/2606)\u001b[K\rremote: Counting objects:  68% (1773/2606)\u001b[K\rremote: Counting objects:  69% (1799/2606)\u001b[K\rremote: Counting objects:  70% (1825/2606)\u001b[K\rremote: Counting objects:  71% (1851/2606)\u001b[K\rremote: Counting objects:  72% (1877/2606)\u001b[K\rremote: Counting objects:  73% (1903/2606)\u001b[K\rremote: Counting objects:  74% (1929/2606)\u001b[K\rremote: Counting objects:  75% (1955/2606)\u001b[K\rremote: Counting objects:  76% (1981/2606)\u001b[K\rremote: Counting objects:  77% (2007/2606)\u001b[K\rremote: Counting objects:  78% (2033/2606)\u001b[K\rremote: Counting objects:  79% (2059/2606)\u001b[K\rremote: Counting objects:  80% (2085/2606)\u001b[K\rremote: Counting objects:  81% (2111/2606)\u001b[K\rremote: Counting objects:  82% (2137/2606)\u001b[K\rremote: Counting objects:  83% (2163/2606)\u001b[K\rremote: Counting objects:  84% (2190/2606)\u001b[K\rremote: Counting objects:  85% (2216/2606)\u001b[K\rremote: Counting objects:  86% (2242/2606)\u001b[K\rremote: Counting objects:  87% (2268/2606)\u001b[K\rremote: Counting objects:  88% (2294/2606)\u001b[K\rremote: Counting objects:  89% (2320/2606)\u001b[K\rremote: Counting objects:  90% (2346/2606)\u001b[K\rremote: Counting objects:  91% (2372/2606)\u001b[K\rremote: Counting objects:  92% (2398/2606)\u001b[K\rremote: Counting objects:  93% (2424/2606)\u001b[K\rremote: Counting objects:  94% (2450/2606)\u001b[K\rremote: Counting objects:  95% (2476/2606)\u001b[K\rremote: Counting objects:  96% (2502/2606)\u001b[K\rremote: Counting objects:  97% (2528/2606)\u001b[K\rremote: Counting objects:  98% (2554/2606)\u001b[K\rremote: Counting objects:  99% (2580/2606)\u001b[K\rremote: Counting objects: 100% (2606/2606)\u001b[K\rremote: Counting objects: 100% (2606/2606), done.\u001b[K\n",
            "remote: Compressing objects:   0% (1/701)\u001b[K\rremote: Compressing objects:   1% (8/701)\u001b[K\rremote: Compressing objects:   2% (15/701)\u001b[K\rremote: Compressing objects:   3% (22/701)\u001b[K\rremote: Compressing objects:   4% (29/701)\u001b[K\rremote: Compressing objects:   5% (36/701)\u001b[K\rremote: Compressing objects:   6% (43/701)\u001b[K\rremote: Compressing objects:   7% (50/701)\u001b[K\rremote: Compressing objects:   8% (57/701)\u001b[K\rremote: Compressing objects:   9% (64/701)\u001b[K\rremote: Compressing objects:  10% (71/701)\u001b[K\rremote: Compressing objects:  11% (78/701)\u001b[K\rremote: Compressing objects:  12% (85/701)\u001b[K\rremote: Compressing objects:  13% (92/701)\u001b[K\rremote: Compressing objects:  14% (99/701)\u001b[K\rremote: Compressing objects:  15% (106/701)\u001b[K\rremote: Compressing objects:  16% (113/701)\u001b[K\rremote: Compressing objects:  17% (120/701)\u001b[K\rremote: Compressing objects:  18% (127/701)\u001b[K\rremote: Compressing objects:  19% (134/701)\u001b[K\rremote: Compressing objects:  20% (141/701)\u001b[K\rremote: Compressing objects:  21% (148/701)\u001b[K\rremote: Compressing objects:  22% (155/701)\u001b[K\rremote: Compressing objects:  23% (162/701)\u001b[K\rremote: Compressing objects:  24% (169/701)\u001b[K\rremote: Compressing objects:  25% (176/701)\u001b[K\rremote: Compressing objects:  26% (183/701)\u001b[K\rremote: Compressing objects:  27% (190/701)\u001b[K\rremote: Compressing objects:  28% (197/701)\u001b[K\rremote: Compressing objects:  29% (204/701)\u001b[K\rremote: Compressing objects:  30% (211/701)\u001b[K\rremote: Compressing objects:  31% (218/701)\u001b[K\rremote: Compressing objects:  32% (225/701)\u001b[K\rremote: Compressing objects:  33% (232/701)\u001b[K\rremote: Compressing objects:  34% (239/701)\u001b[K\rremote: Compressing objects:  35% (246/701)\u001b[K\rremote: Compressing objects:  36% (253/701)\u001b[K\rremote: Compressing objects:  37% (260/701)\u001b[K\rremote: Compressing objects:  38% (267/701)\u001b[K\rremote: Compressing objects:  39% (274/701)\u001b[K\rremote: Compressing objects:  40% (281/701)\u001b[K\rremote: Compressing objects:  41% (288/701)\u001b[K\rremote: Compressing objects:  42% (295/701)\u001b[K\rremote: Compressing objects:  43% (302/701)\u001b[K\rremote: Compressing objects:  44% (309/701)\u001b[K\rremote: Compressing objects:  45% (316/701)\u001b[K\rremote: Compressing objects:  46% (323/701)\u001b[K\rremote: Compressing objects:  47% (330/701)\u001b[K\rremote: Compressing objects:  48% (337/701)\u001b[K\rremote: Compressing objects:  49% (344/701)\u001b[K\rremote: Compressing objects:  50% (351/701)\u001b[K\rremote: Compressing objects:  51% (358/701)\u001b[K\rremote: Compressing objects:  52% (365/701)\u001b[K\rremote: Compressing objects:  53% (372/701)\u001b[K\rremote: Compressing objects:  54% (379/701)\u001b[K\rremote: Compressing objects:  55% (386/701)\u001b[K\rremote: Compressing objects:  56% (393/701)\u001b[K\rremote: Compressing objects:  57% (400/701)\u001b[K\rremote: Compressing objects:  58% (407/701)\u001b[K\rremote: Compressing objects:  59% (414/701)\u001b[K\rremote: Compressing objects:  60% (421/701)\u001b[K\rremote: Compressing objects:  61% (428/701)\u001b[K\rremote: Compressing objects:  62% (435/701)\u001b[K\rremote: Compressing objects:  63% (442/701)\u001b[K\rremote: Compressing objects:  64% (449/701)\u001b[K\rremote: Compressing objects:  65% (456/701)\u001b[K\rremote: Compressing objects:  66% (463/701)\u001b[K\rremote: Compressing objects:  67% (470/701)\u001b[K\rremote: Compressing objects:  68% (477/701)\u001b[K\rremote: Compressing objects:  69% (484/701)\u001b[K\rremote: Compressing objects:  70% (491/701)\u001b[K\rremote: Compressing objects:  71% (498/701)\u001b[K\rremote: Compressing objects:  72% (505/701)\u001b[K\rremote: Compressing objects:  73% (512/701)\u001b[K\rremote: Compressing objects:  74% (519/701)\u001b[K\rremote: Compressing objects:  75% (526/701)\u001b[K\rremote: Compressing objects:  76% (533/701)\u001b[K\rremote: Compressing objects:  77% (540/701)\u001b[K\rremote: Compressing objects:  78% (547/701)\u001b[K\rremote: Compressing objects:  79% (554/701)\u001b[K\rremote: Compressing objects:  80% (561/701)\u001b[K\rremote: Compressing objects:  81% (568/701)\u001b[K\rremote: Compressing objects:  82% (575/701)\u001b[K\rremote: Compressing objects:  83% (582/701)\u001b[K\rremote: Compressing objects:  84% (589/701)\u001b[K\rremote: Compressing objects:  85% (596/701)\u001b[K\rremote: Compressing objects:  86% (603/701)\u001b[K\rremote: Compressing objects:  87% (610/701)\u001b[K\rremote: Compressing objects:  88% (617/701)\u001b[K\rremote: Compressing objects:  89% (624/701)\u001b[K\rremote: Compressing objects:  90% (631/701)\u001b[K\rremote: Compressing objects:  91% (638/701)\u001b[K\rremote: Compressing objects:  92% (645/701)\u001b[K\rremote: Compressing objects:  93% (652/701)\u001b[K\rremote: Compressing objects:  94% (659/701)\u001b[K\rremote: Compressing objects:  95% (666/701)\u001b[K\rremote: Compressing objects:  96% (673/701)\u001b[K\rremote: Compressing objects:  97% (680/701)\u001b[K\rremote: Compressing objects:  98% (687/701)\u001b[K\rremote: Compressing objects:  99% (694/701)\u001b[K\rremote: Compressing objects: 100% (701/701)\u001b[K\rremote: Compressing objects: 100% (701/701), done.\u001b[K\n",
            "Receiving objects:   0% (1/2606)\rReceiving objects:   1% (27/2606)\rReceiving objects:   2% (53/2606)\rReceiving objects:   3% (79/2606)\rReceiving objects:   4% (105/2606)\rReceiving objects:   5% (131/2606)\rReceiving objects:   6% (157/2606)\rReceiving objects:   7% (183/2606)\rReceiving objects:   8% (209/2606)\rReceiving objects:   9% (235/2606)\rReceiving objects:  10% (261/2606)\rReceiving objects:  11% (287/2606)\rReceiving objects:  12% (313/2606)\rReceiving objects:  13% (339/2606)\rReceiving objects:  14% (365/2606)\rReceiving objects:  15% (391/2606)\rReceiving objects:  16% (417/2606)\rReceiving objects:  17% (444/2606)\rReceiving objects:  18% (470/2606)\rReceiving objects:  19% (496/2606)\rReceiving objects:  20% (522/2606)\rReceiving objects:  21% (548/2606)\rReceiving objects:  22% (574/2606)\rReceiving objects:  23% (600/2606)\rReceiving objects:  24% (626/2606)\rReceiving objects:  25% (652/2606)\rReceiving objects:  26% (678/2606)\rReceiving objects:  27% (704/2606)\rReceiving objects:  28% (730/2606)\rReceiving objects:  29% (756/2606)\rReceiving objects:  30% (782/2606)\rReceiving objects:  31% (808/2606)\rReceiving objects:  32% (834/2606)\rReceiving objects:  33% (860/2606)\rReceiving objects:  34% (887/2606)\rReceiving objects:  35% (913/2606)\rReceiving objects:  36% (939/2606)\rReceiving objects:  37% (965/2606)\rReceiving objects:  38% (991/2606)\rReceiving objects:  39% (1017/2606)\rReceiving objects:  40% (1043/2606)\rReceiving objects:  41% (1069/2606)\rReceiving objects:  42% (1095/2606)\rReceiving objects:  43% (1121/2606)\rReceiving objects:  44% (1147/2606)\rReceiving objects:  45% (1173/2606)\rReceiving objects:  46% (1199/2606)\rReceiving objects:  47% (1225/2606)\rReceiving objects:  48% (1251/2606)\rReceiving objects:  49% (1277/2606)\rReceiving objects:  50% (1303/2606)\rReceiving objects:  51% (1330/2606)\rReceiving objects:  52% (1356/2606)\rReceiving objects:  53% (1382/2606)\rReceiving objects:  54% (1408/2606)\rReceiving objects:  55% (1434/2606)\rReceiving objects:  56% (1460/2606)\rReceiving objects:  57% (1486/2606)\rReceiving objects:  58% (1512/2606)\rReceiving objects:  59% (1538/2606)\rReceiving objects:  60% (1564/2606)\rReceiving objects:  61% (1590/2606)\rReceiving objects:  62% (1616/2606)\rReceiving objects:  63% (1642/2606)\rReceiving objects:  64% (1668/2606)\rReceiving objects:  65% (1694/2606)\rReceiving objects:  66% (1720/2606)\rReceiving objects:  67% (1747/2606)\rReceiving objects:  68% (1773/2606)\rReceiving objects:  69% (1799/2606)\rReceiving objects:  70% (1825/2606)\rReceiving objects:  71% (1851/2606)\rReceiving objects:  72% (1877/2606)\rReceiving objects:  73% (1903/2606)\rReceiving objects:  74% (1929/2606)\rReceiving objects:  75% (1955/2606)\rReceiving objects:  76% (1981/2606)\rReceiving objects:  77% (2007/2606)\rReceiving objects:  78% (2033/2606)\rReceiving objects:  79% (2059/2606)\rReceiving objects:  80% (2085/2606)\rReceiving objects:  81% (2111/2606)\rReceiving objects:  82% (2137/2606)\rReceiving objects:  83% (2163/2606)\rReceiving objects:  84% (2190/2606)\rremote: Total 2606 (delta 1998), reused 2485 (delta 1890), pack-reused 0\u001b[K\n",
            "Receiving objects:  85% (2216/2606)\rReceiving objects:  86% (2242/2606)\rReceiving objects:  87% (2268/2606)\rReceiving objects:  88% (2294/2606)\rReceiving objects:  89% (2320/2606)\rReceiving objects:  90% (2346/2606)\rReceiving objects:  91% (2372/2606)\rReceiving objects:  92% (2398/2606)\rReceiving objects:  93% (2424/2606)\rReceiving objects:  94% (2450/2606)\rReceiving objects:  95% (2476/2606)\rReceiving objects:  96% (2502/2606)\rReceiving objects:  97% (2528/2606)\rReceiving objects:  98% (2554/2606)\rReceiving objects:  99% (2580/2606)\rReceiving objects: 100% (2606/2606)\rReceiving objects: 100% (2606/2606), 259.07 KiB | 17.27 MiB/s, done.\n",
            "Resolving deltas:   0% (0/1998)\rResolving deltas:   1% (22/1998)\rResolving deltas:   2% (52/1998)\rResolving deltas:   3% (69/1998)\rResolving deltas:   4% (82/1998)\rResolving deltas:   5% (104/1998)\rResolving deltas:   6% (137/1998)\rResolving deltas:   7% (144/1998)\rResolving deltas:   8% (177/1998)\rResolving deltas:   9% (189/1998)\rResolving deltas:  11% (231/1998)\rResolving deltas:  13% (261/1998)\rResolving deltas:  14% (281/1998)\rResolving deltas:  15% (316/1998)\rResolving deltas:  16% (331/1998)\rResolving deltas:  17% (349/1998)\rResolving deltas:  18% (364/1998)\rResolving deltas:  19% (381/1998)\rResolving deltas:  20% (407/1998)\rResolving deltas:  21% (423/1998)\rResolving deltas:  22% (441/1998)\rResolving deltas:  23% (468/1998)\rResolving deltas:  24% (484/1998)\rResolving deltas:  25% (502/1998)\rResolving deltas:  26% (520/1998)\rResolving deltas:  27% (541/1998)\rResolving deltas:  28% (563/1998)\rResolving deltas:  29% (581/1998)\rResolving deltas:  30% (600/1998)\rResolving deltas:  31% (634/1998)\rResolving deltas:  32% (652/1998)\rResolving deltas:  34% (697/1998)\rResolving deltas:  35% (713/1998)\rResolving deltas:  36% (736/1998)\rResolving deltas:  39% (783/1998)\rResolving deltas:  41% (839/1998)\rResolving deltas:  42% (857/1998)\rResolving deltas:  44% (898/1998)\rResolving deltas:  47% (941/1998)\rResolving deltas:  49% (994/1998)\rResolving deltas:  52% (1043/1998)\rResolving deltas:  54% (1098/1998)\rResolving deltas:  56% (1125/1998)\rResolving deltas:  58% (1163/1998)\rResolving deltas:  59% (1184/1998)\rResolving deltas:  60% (1203/1998)\rResolving deltas:  61% (1220/1998)\rResolving deltas:  64% (1283/1998)\rResolving deltas:  67% (1353/1998)\rResolving deltas:  68% (1366/1998)\rResolving deltas:  69% (1388/1998)\rResolving deltas:  73% (1459/1998)\rResolving deltas:  77% (1546/1998)\rResolving deltas:  79% (1589/1998)\rResolving deltas:  80% (1599/1998)\rResolving deltas:  83% (1661/1998)\rResolving deltas:  84% (1681/1998)\rResolving deltas:  85% (1709/1998)\rResolving deltas:  87% (1750/1998)\rResolving deltas:  88% (1764/1998)\rResolving deltas:  89% (1785/1998)\rResolving deltas:  90% (1817/1998)\rResolving deltas:  91% (1821/1998)\rResolving deltas:  92% (1851/1998)\rResolving deltas:  93% (1867/1998)\rResolving deltas:  94% (1894/1998)\rResolving deltas:  95% (1901/1998)\rResolving deltas:  96% (1923/1998)\rResolving deltas:  97% (1939/1998)\rResolving deltas:  98% (1959/1998)\rResolving deltas:  99% (1987/1998)\rResolving deltas: 100% (1998/1998)\rResolving deltas: 100% (1998/1998), done.\n"
          ]
        }
      ],
      "source": [
        "!rm -rf HoroscoPy\n",
        "!git clone https://github.com/i-kumitaka/HoroscoPy.git"
      ]
    },
    {
      "cell_type": "markdown",
      "source": [
        "## Purple Star Astrology"
      ],
      "metadata": {
        "id": "tr8dqjRKQZAz"
      }
    },
    {
      "cell_type": "code",
      "source": [
        "!cd HoroscoPy/shibi; python make_chart.py --date 2000.01.30 --hour 21 --gender male"
      ],
      "metadata": {
        "colab": {
          "base_uri": "https://localhost:8080/"
        },
        "id": "F5FQ5WiwlAf0",
        "outputId": "9b899066-1bef-48bd-d4f2-3bfb50eb808a"
      },
      "execution_count": 5,
      "outputs": [
        {
          "output_type": "stream",
          "name": "stdout",
          "text": [
            "・旧暦生年月日：1999.12.24\n",
            "・五行局：火六局\n",
            "・命主：禄存\n",
            "・身主：天同\n",
            "・子年斗君：子\n",
            "\n",
            "・01　丙寅／命宮\n",
            "　太陽　巨門　\n",
            "　（大限：6 ～ 15 歳）\n",
            "\n",
            "・02　丁卯／父母宮\n",
            "　天相　\n",
            "　左輔　文曲(化忌)　\n",
            "　（大限：116 ～ 125 歳）\n",
            "\n",
            "・03　戊辰／福徳宮\n",
            "　天機|化忌|　天梁(化科)　\n",
            "　陰殺　\n",
            "　（大限：106 ～ 115 歳）\n",
            "\n",
            "・04　己巳／田宅宮　来因宮\n",
            "　紫微<化科>　七殺　\n",
            "　陀羅　天馬　\n",
            "　（大限：96 ～ 105 歳）\n",
            "\n",
            "・05　庚午／官禄宮\n",
            "　禄存　天喜　\n",
            "　（大限：86 ～ 95 歳）\n",
            "\n",
            "・06　辛未／奴僕宮\n",
            "　羊刃　龍池　凰閣　\n",
            "　（大限：76 ～ 85 歳）\n",
            "\n",
            "・07　壬申／遷移宮\n",
            "　天刑　火星　天鉞　\n",
            "　（大限：66 ～ 75 歳）\n",
            "\n",
            "・08　癸酉／疾厄宮\n",
            "　廉貞　破軍|化禄|　\n",
            "　鈴星　\n",
            "　（大限：56 ～ 65 歳）\n",
            "\n",
            "・09　甲戌／財帛宮\n",
            "　地劫　\n",
            "　（大限：46 ～ 55 歳）\n",
            "\n",
            "・10　乙亥／子女宮\n",
            "　天府　\n",
            "　右弼　文昌　\n",
            "　（大限：36 ～ 45 歳）\n",
            "\n",
            "・11　丙子／夫妻宮　身宮\n",
            "　天同<化忌>|化禄|　太陰<化科>　\n",
            "　天姚　天空　天魁　紅鸞　\n",
            "　（大限：26 ～ 35 歳）\n",
            "\n",
            "・12　丁丑／兄弟宮\n",
            "　武曲(化禄)　貪狼(化権)　\n",
            "　（大限：16 ～ 25 歳）\n",
            "\n"
          ]
        }
      ]
    },
    {
      "cell_type": "markdown",
      "source": [
        "## Kubo Biorhythm"
      ],
      "metadata": {
        "id": "986AYx3VEISV"
      }
    },
    {
      "cell_type": "code",
      "source": [
        "!cd HoroscoPy/kubo; python make_chart.py --date 2000.01.30 --hour 21:00"
      ],
      "metadata": {
        "colab": {
          "base_uri": "https://localhost:8080/"
        },
        "id": "si3R6X3qEdzt",
        "outputId": "424c563e-a47a-42ad-c576-450b1a94831f"
      },
      "execution_count": 6,
      "outputs": [
        {
          "output_type": "stream",
          "name": "stdout",
          "text": [
            "年干支：己卯  本命星：一白水星\n",
            "月干支：丁丑  月命星：六白金星\n",
            "日干支：丁亥* 日命星：六白金星  午未空亡\n",
            "時干支：辛亥* \n",
            "五行数：1 / 2 / 2 / 1 / 2\n",
            "                  12    1    2    3    4    5    6    7    8    9   10   11\n",
            "---------------------------------------------------------------------------\n",
            " Public Month |   12    1    2    3    4    5    6    7    8    9   10   11\n",
            "  Public Year |    4    2    3    4    5    6    7    8    9    1    2    3\n",
            "Private Month |    6    7    8    9   10   11   12    1    2    3    4    5\n",
            " Private Year |   午   未   申   酉   戌   亥   子   丑   寅   卯   辰   巳\n"
          ]
        }
      ]
    },
    {
      "cell_type": "markdown",
      "source": [
        "## Shukuyo"
      ],
      "metadata": {
        "id": "njnMUg7CWpiu"
      }
    },
    {
      "cell_type": "code",
      "source": [
        "!cd HoroscoPy/shuku; python make_chart.py --date 2000.01.30"
      ],
      "metadata": {
        "colab": {
          "base_uri": "https://localhost:8080/"
        },
        "id": "jZYbKU4UWo6n",
        "outputId": "333d8ee2-36aa-4d71-a8dd-45db2dbadcce"
      },
      "execution_count": 7,
      "outputs": [
        {
          "output_type": "stream",
          "name": "stdout",
          "text": [
            "尾宿\n",
            "\n",
            "2023/01/15 命宿\n",
            "2023/01/18 意宿\n",
            "2023/02/12 命宿\n",
            "2023/02/15 意宿\n",
            "2023/02/21 事宿\n",
            "2023/02/24 克宿\n",
            "2023/02/27 聚宿\n",
            "2023/03/03 同宿\n",
            "2023/05/07 命宿\n",
            "2023/05/10 意宿\n",
            "2023/05/16 事宿\n",
            "2023/05/19 克宿\n",
            "2023/06/04 命宿\n",
            "2023/06/07 意宿\n",
            "2023/06/13 事宿\n",
            "2023/06/16 克宿\n",
            "2023/06/19 聚宿\n",
            "2023/06/23 同宿\n",
            "2023/07/21 同宿\n",
            "\n",
            "2023/03/01 柳 親/破 甘露日\n",
            "2023/03/02 星 胎/再 \n",
            "2023/03/03 張 栄/再 金剛峯日\n",
            "2023/03/04 翼 衰/再 \n",
            "2023/03/05 軫 安/再 甘露日\n",
            "2023/03/06 角 危/再 \n",
            "2023/03/07 亢 成/再 \n",
            "2023/03/08 底 壊/再 \n",
            "2023/03/09 房 友/再 \n",
            "2023/03/10 心 親/再 \n",
            "2023/03/11 尾 命/躍 \n",
            "2023/03/12 箕 栄/躍 \n",
            "2023/03/13 斗 衰/躍 \n",
            "2023/03/14 女 安/躍 \n",
            "2023/03/15 虚 危/躍 \n",
            "2023/03/16 危 成/躍 \n",
            "2023/03/17 室 壊/躍 \n",
            "2023/03/18 壁 友/躍 \n",
            "2023/03/19 奎 親/躍 \n",
            "2023/03/20 婁 業/破 \n",
            "2023/03/21 胃 栄/破 \n",
            "2023/03/22 奎 親/躍 \n",
            "2023/03/23 婁 業/破 \n",
            "2023/03/24 胃 栄/破 \n",
            "2023/03/25 昴 衰/破 \n",
            "2023/03/26 畢 安/破 \n",
            "2023/03/27 觜 危/破 \n",
            "2023/03/28 参 成/破 \n",
            "2023/03/29 井 壊/破 \n",
            "2023/03/30 鬼 友/破 甘露日\n",
            "2023/03/31 柳 親/破 \n"
          ]
        }
      ]
    },
    {
      "cell_type": "markdown",
      "source": [
        "## Modern Numerology"
      ],
      "metadata": {
        "id": "CYxY-MrMQwxr"
      }
    },
    {
      "cell_type": "code",
      "source": [
        "!cd HoroscoPy/suhi; python make_chart.py --date 2000.01.30 --name \"Izumi Kumitaka\""
      ],
      "metadata": {
        "colab": {
          "base_uri": "https://localhost:8080/"
        },
        "id": "QZbYaW95Q9KW",
        "outputId": "ec4a56b2-d41d-447b-cfe7-43f2ecf0d335"
      },
      "execution_count": 8,
      "outputs": [
        {
          "output_type": "stream",
          "name": "stdout",
          "text": [
            "B: 6\n",
            "D: 3\n",
            "S: 8\n",
            "P: 4\n",
            "R: 9\n"
          ]
        }
      ]
    }
  ]
}