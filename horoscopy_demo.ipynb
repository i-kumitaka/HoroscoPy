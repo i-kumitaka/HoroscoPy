{
  "nbformat": 4,
  "nbformat_minor": 0,
  "metadata": {
    "colab": {
      "provenance": [],
      "authorship_tag": "ABX9TyMU1xz0dlolme/KTcsQtB0f",
      "include_colab_link": true
    },
    "kernelspec": {
      "name": "python3",
      "display_name": "Python 3"
    },
    "language_info": {
      "name": "python"
    }
  },
  "cells": [
    {
      "cell_type": "markdown",
      "metadata": {
        "id": "view-in-github",
        "colab_type": "text"
      },
      "source": [
        "<a href=\"https://colab.research.google.com/github/i-kumitaka/HoroscoPy/blob/master/horoscopy_demo.ipynb\" target=\"_parent\"><img src=\"https://colab.research.google.com/assets/colab-badge.svg\" alt=\"Open In Colab\"/></a>"
      ]
    },
    {
      "cell_type": "markdown",
      "source": [
        "## Preparation"
      ],
      "metadata": {
        "id": "PDE7aPAyQoys"
      }
    },
    {
      "cell_type": "code",
      "execution_count": 1,
      "metadata": {
        "colab": {
          "base_uri": "https://localhost:8080/"
        },
        "id": "VfCdIMjGk3mG",
        "outputId": "cd1a24bb-1982-4822-de94-4a9735e9c2ff"
      },
      "outputs": [
        {
          "output_type": "stream",
          "name": "stdout",
          "text": [
            "Cloning into 'HoroscoPy'...\n",
            "remote: Enumerating objects: 797, done.\u001b[K\n",
            "remote: Counting objects: 100% (797/797), done.\u001b[K\n",
            "remote: Compressing objects: 100% (272/272), done.\u001b[K\n",
            "remote: Total 797 (delta 620), reused 687 (delta 516), pack-reused 0\u001b[K\n",
            "Receiving objects: 100% (797/797), 76.47 KiB | 5.10 MiB/s, done.\n",
            "Resolving deltas: 100% (620/620), done.\n"
          ]
        }
      ],
      "source": [
        "!git clone https://github.com/i-kumitaka/HoroscoPy.git"
      ]
    },
    {
      "cell_type": "markdown",
      "source": [
        "## Purple Star Astrology"
      ],
      "metadata": {
        "id": "tr8dqjRKQZAz"
      }
    },
    {
      "cell_type": "code",
      "source": [
        "!cd HoroscoPy/shibi; python make_chart.py --date 2000.01.30 --hour 21 --gender male --cal solar"
      ],
      "metadata": {
        "colab": {
          "base_uri": "https://localhost:8080/"
        },
        "id": "F5FQ5WiwlAf0",
        "outputId": "69518956-6ee1-4802-c9c2-4141ffc70304"
      },
      "execution_count": 2,
      "outputs": [
        {
          "output_type": "stream",
          "name": "stdout",
          "text": [
            "・旧暦生年月日：1999.12.24\n",
            "・五行局：火六局\n",
            "・命主：禄存\n",
            "・身主：天同\n",
            "・子年斗君：子\n",
            "\n",
            "・01　丙寅／命宮\n",
            "　太陽　巨門　\n",
            "　（大限：6 ～ 15 歳）\n",
            "\n",
            "・02　丁卯／父母宮\n",
            "　天相　\n",
            "　左輔　文曲(化忌)　\n",
            "　（大限：116 ～ 125 歳）\n",
            "\n",
            "・03　戊辰／福徳宮\n",
            "　天機|化忌|　天梁(化科)　\n",
            "　陰殺　\n",
            "　（大限：106 ～ 115 歳）\n",
            "\n",
            "・04　己巳／田宅宮　来因宮\n",
            "　紫微<化科>　七殺　\n",
            "　陀羅　天馬　\n",
            "　（大限：96 ～ 105 歳）\n",
            "\n",
            "・05　庚午／官禄宮\n",
            "　禄存　天喜　\n",
            "　（大限：86 ～ 95 歳）\n",
            "\n",
            "・06　辛未／奴僕宮\n",
            "　羊刃　龍池　凰閣　\n",
            "　（大限：76 ～ 85 歳）\n",
            "\n",
            "・07　壬申／遷移宮\n",
            "　天刑　火星　天鉞　\n",
            "　（大限：66 ～ 75 歳）\n",
            "\n",
            "・08　癸酉／疾厄宮\n",
            "　廉貞　破軍|化禄|　\n",
            "　鈴星　\n",
            "　（大限：56 ～ 65 歳）\n",
            "\n",
            "・09　甲戌／財帛宮\n",
            "　地劫　\n",
            "　（大限：46 ～ 55 歳）\n",
            "\n",
            "・10　乙亥／子女宮\n",
            "　天府　\n",
            "　右弼　文昌　\n",
            "　（大限：36 ～ 45 歳）\n",
            "\n",
            "・11　丙子／夫妻宮　身宮\n",
            "　天同<化忌>|化禄|　太陰<化科>　\n",
            "　天姚　天空　天魁　紅鸞　\n",
            "　（大限：26 ～ 35 歳）\n",
            "\n",
            "・12　丁丑／兄弟宮\n",
            "　武曲(化禄)　貪狼(化権)　\n",
            "　（大限：16 ～ 25 歳）\n",
            "\n"
          ]
        }
      ]
    },
    {
      "cell_type": "markdown",
      "source": [
        "## Modern Numerology"
      ],
      "metadata": {
        "id": "CYxY-MrMQwxr"
      }
    },
    {
      "cell_type": "code",
      "source": [
        "!cd HoroscoPy/suhi; python make_chart.py --date 2000.01.30 --name \"Izumi Kumitaka\""
      ],
      "metadata": {
        "colab": {
          "base_uri": "https://localhost:8080/"
        },
        "id": "QZbYaW95Q9KW",
        "outputId": "8597d84a-c93f-4cda-af94-47b39c3e2480"
      },
      "execution_count": 4,
      "outputs": [
        {
          "output_type": "stream",
          "name": "stdout",
          "text": [
            "B: 6\n",
            "D: 3\n",
            "S: 8\n",
            "P: 4\n",
            "R: 9\n"
          ]
        }
      ]
    },
    {
      "cell_type": "markdown",
      "source": [
        "## Kubo Biorhythm"
      ],
      "metadata": {
        "id": "986AYx3VEISV"
      }
    },
    {
      "cell_type": "code",
      "source": [
        "!cd HoroscoPy/kubo; python make_chart.py --nenkanshi 己卯 --gekkanshi 丁丑 --nikkanshi 丁亥 --year 2000 --month 1"
      ],
      "metadata": {
        "colab": {
          "base_uri": "https://localhost:8080/"
        },
        "id": "si3R6X3qEdzt",
        "outputId": "9d1eddef-78f9-48af-dfda-2fe64f9d5bcf"
      },
      "execution_count": 9,
      "outputs": [
        {
          "output_type": "stream",
          "name": "stdout",
          "text": [
            "       12    1    2    3    4    5    6    7    8    9   10   11\n",
            "----------------------------------------------------------------\n",
            "GM |   12    1    2    3    4    5    6    7    8    9   10   11\n",
            "GY |    4    2    3    4    5    6    7    8    9    1    2    3\n",
            "WM |    6    7    8    9   10   11   12    1    2    3    4    5\n",
            "WY |   午   未   申   酉   戌   亥   子   丑   寅   卯   辰   巳\n"
          ]
        }
      ]
    }
  ]
}