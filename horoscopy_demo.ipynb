{
  "nbformat": 4,
  "nbformat_minor": 0,
  "metadata": {
    "colab": {
      "provenance": [],
      "include_colab_link": true
    },
    "kernelspec": {
      "name": "python3",
      "display_name": "Python 3"
    },
    "language_info": {
      "name": "python"
    }
  },
  "cells": [
    {
      "cell_type": "markdown",
      "metadata": {
        "id": "view-in-github",
        "colab_type": "text"
      },
      "source": [
        "<a href=\"https://colab.research.google.com/github/i-kumitaka/HoroscoPy/blob/master/horoscopy_demo.ipynb\" target=\"_parent\"><img src=\"https://colab.research.google.com/assets/colab-badge.svg\" alt=\"Open In Colab\"/></a>"
      ]
    },
    {
      "cell_type": "markdown",
      "source": [
        "## Preparation"
      ],
      "metadata": {
        "id": "PDE7aPAyQoys"
      }
    },
    {
      "cell_type": "code",
      "source": [
        "%env DATE=2000.01.30\n",
        "%env TIME=21:00"
      ],
      "metadata": {
        "colab": {
          "base_uri": "https://localhost:8080/"
        },
        "id": "UodM9kDKCmLV",
        "outputId": "434e6c1b-ccd5-4599-e4f9-98fbf1438850"
      },
      "execution_count": 15,
      "outputs": [
        {
          "output_type": "stream",
          "name": "stdout",
          "text": [
            "env: DATE=2000.01.30\n",
            "env: TIME=21:00\n"
          ]
        }
      ]
    },
    {
      "cell_type": "code",
      "execution_count": 16,
      "metadata": {
        "colab": {
          "base_uri": "https://localhost:8080/"
        },
        "id": "VfCdIMjGk3mG",
        "outputId": "80b2fdf4-f804-4bf3-84ea-cd49349e26a9"
      },
      "outputs": [
        {
          "output_type": "stream",
          "name": "stdout",
          "text": [
            "Cloning into 'HoroscoPy'...\n",
            "remote: Enumerating objects: 3138, done.\u001b[K\n",
            "remote: Counting objects: 100% (3138/3138), done.\u001b[K\n",
            "remote: Compressing objects: 100% (903/903), done.\u001b[K\n",
            "remote: Total 3138 (delta 2450), reused 2891 (delta 2217), pack-reused 0\u001b[K\n",
            "Receiving objects: 100% (3138/3138), 319.70 KiB | 6.66 MiB/s, done.\n",
            "Resolving deltas: 100% (2450/2450), done.\n"
          ]
        }
      ],
      "source": [
        "!rm -rf HoroscoPy\n",
        "!git clone https://github.com/i-kumitaka/HoroscoPy.git"
      ]
    },
    {
      "cell_type": "markdown",
      "source": [
        "## Purple Star Astrology"
      ],
      "metadata": {
        "id": "tr8dqjRKQZAz"
      }
    },
    {
      "cell_type": "code",
      "source": [
        "!cd HoroscoPy/shibi; python make_chart.py --date $DATE --time $TIME --eot smart --place 東京 --gender M --base 1"
      ],
      "metadata": {
        "colab": {
          "base_uri": "https://localhost:8080/"
        },
        "id": "F5FQ5WiwlAf0",
        "outputId": "6a3bd619-9458-4c98-8edd-5ea152a995af"
      },
      "execution_count": 17,
      "outputs": [
        {
          "output_type": "stream",
          "name": "stdout",
          "text": [
            "・鑑定日：2023.07.27\n",
            "・時差：+19分（東経：139.692）\n",
            "・均時差：+13分\n",
            "・数え年：25歳\n",
            "・新暦生年月日：2000.01.30 (Sun)\n",
            "・旧暦生年月日：1999.12.24\n",
            "・修正時間：21:32\n",
            "・生時支：亥\n",
            "・干支：己卯\n",
            "・五行局：火六局\n",
            "・命主：禄存\n",
            "・身主：天同\n",
            "・子年斗君：子\n",
            "・小限：丑\n",
            "\n",
            "・01　丙寅／命宮\n",
            "　太陽　巨門　\n",
            "　（大限：6 ～ 15 歳）\n",
            "\n",
            "・02　丁卯／父母宮\n",
            "　天相　\n",
            "　左輔　文曲(化忌)　\n",
            "　（大限：116 ～ 125 歳）\n",
            "\n",
            "・03　戊辰／福徳宮\n",
            "　天機|化忌|　天梁(化科)　\n",
            "　陰殺　\n",
            "　（大限：106 ～ 115 歳）\n",
            "\n",
            "・04　己巳／田宅宮　来因宮\n",
            "　紫微<化科>　七殺　\n",
            "　陀羅　天馬　\n",
            "　（大限：96 ～ 105 歳）\n",
            "\n",
            "・05　庚午／官禄宮\n",
            "　禄存　天喜　\n",
            "　（大限：86 ～ 95 歳）\n",
            "\n",
            "・06　辛未／奴僕宮\n",
            "　羊刃　龍池　凰閣　\n",
            "　（大限：76 ～ 85 歳）\n",
            "\n",
            "・07　壬申／遷移宮\n",
            "　天刑　火星　天鉞　\n",
            "　（大限：66 ～ 75 歳）\n",
            "\n",
            "・08　癸酉／疾厄宮\n",
            "　廉貞　破軍|化禄|　\n",
            "　鈴星　\n",
            "　（大限：56 ～ 65 歳）\n",
            "\n",
            "・09　甲戌／財帛宮\n",
            "　地劫　\n",
            "　（大限：46 ～ 55 歳）\n",
            "\n",
            "・10　乙亥／子女宮\n",
            "　天府　\n",
            "　右弼　文昌　\n",
            "　（大限：36 ～ 45 歳）\n",
            "\n",
            "・11　丙子／夫妻宮　身宮\n",
            "　天同<化忌>|化禄|　太陰<化科>　\n",
            "　天姚　天空　天魁　紅鸞　\n",
            "　（大限：26 ～ 35 歳）\n",
            "\n",
            "・12　丁丑／兄弟宮\n",
            "　武曲(化禄)　貪狼(化権)　\n",
            "　（大限：16 ～ 25 歳）\n",
            "\n"
          ]
        }
      ]
    },
    {
      "cell_type": "markdown",
      "source": [
        "## Kubo Biorhythm"
      ],
      "metadata": {
        "id": "986AYx3VEISV"
      }
    },
    {
      "cell_type": "code",
      "source": [
        "!cd HoroscoPy/kubo; python make_chart.py --date $DATE --time $TIME"
      ],
      "metadata": {
        "colab": {
          "base_uri": "https://localhost:8080/"
        },
        "id": "si3R6X3qEdzt",
        "outputId": "8b801d5a-b293-499c-f043-8a5390195c38"
      },
      "execution_count": 18,
      "outputs": [
        {
          "output_type": "stream",
          "name": "stdout",
          "text": [
            "年干支：己卯  本命星：一白水星\n",
            "月干支：丁丑  月命星：六白金星\n",
            "日干支：丁亥* 日命星：六白金星  午未空亡\n",
            "時干支：辛亥* \n",
            "傾斜宮：離宮\n",
            "五行数：1 / 2 / 2 / 1 / 2\n",
            "陰中陽：中 / 陰 / 陽\n",
            "＋Ｎ－：＋ / ＋ / ＋\n",
            "                  12    1    2    3    4    5    6    7    8    9   10   11\n",
            "---------------------------------------------------------------------------\n",
            " Public Month |   12    1    2    3    4    5    6    7    8    9   10   11\n",
            "  Public Year |    4    2    3    4    5    6    7    8    9    1    2    3\n",
            "Private Month |    6    7    8    9   10   11   12    1    2    3    4    5\n",
            " Private Year |   午   未   申   酉   戌   亥   子   丑   寅   卯   辰   巳\n"
          ]
        }
      ]
    },
    {
      "cell_type": "markdown",
      "source": [
        "## Shukuyo"
      ],
      "metadata": {
        "id": "njnMUg7CWpiu"
      }
    },
    {
      "cell_type": "code",
      "source": [
        "!cd HoroscoPy/shuku; python make_chart.py --date $DATE"
      ],
      "metadata": {
        "colab": {
          "base_uri": "https://localhost:8080/"
        },
        "id": "jZYbKU4UWo6n",
        "outputId": "df393b85-d880-4ca8-955a-906be3597770"
      },
      "execution_count": 19,
      "outputs": [
        {
          "output_type": "stream",
          "name": "stdout",
          "text": [
            "尾宿\n",
            "\n",
            "2023/01/15 命宿\n",
            "2023/01/18 意宿\n",
            "2023/02/12 命宿\n",
            "2023/02/15 意宿\n",
            "2023/02/21 事宿\n",
            "2023/02/24 克宿\n",
            "2023/02/27 聚宿\n",
            "2023/03/03 同宿\n",
            "2023/05/07 命宿\n",
            "2023/05/10 意宿\n",
            "2023/05/16 事宿\n",
            "2023/05/19 克宿\n",
            "2023/06/04 命宿\n",
            "2023/06/07 意宿\n",
            "2023/06/13 事宿\n",
            "2023/06/16 克宿\n",
            "2023/06/19 聚宿\n",
            "2023/06/23 同宿\n",
            "2023/07/21 同宿\n",
            "\n",
            "2023/07/01 尾 命/躍 \n",
            "2023/07/02 箕 栄/躍 \n",
            "2023/07/03 斗 衰/躍 \n",
            "2023/07/04 女 安/躍 \n",
            "2023/07/05 虚 危/躍 \n",
            "2023/07/06 危 成/躍 \n",
            "2023/07/07 室 壊/躍 \n",
            "2023/07/08 壁 友/躍 \n",
            "2023/07/09 奎 親/躍 \n",
            "2023/07/10 婁 業/破 \n",
            "2023/07/11 胃 栄/破 \n",
            "2023/07/12 昴 衰/破 金剛峯日\n",
            "2023/07/13 畢 安/破 \n",
            "2023/07/14 觜 危/破 \n",
            "2023/07/15 参 成/破 \n",
            "2023/07/16 井 壊/破 \n",
            "2023/07/17 鬼 友/破 羅刹日\n",
            "2023/07/18 鬼 友/破 \n",
            "2023/07/19 柳 親/破 甘露日\n",
            "2023/07/20 星 胎/再 \n",
            "2023/07/21 張 栄/再 金剛峯日\n",
            "2023/07/22 翼 衰/再 \n",
            "2023/07/23 軫 安/再 甘露日\n",
            "2023/07/24 角 危/再 \n",
            "2023/07/25 亢 成/再 \n",
            "2023/07/26 底 壊/再 \n",
            "2023/07/27 房 友/再 \n",
            "2023/07/28 心 親/再 \n",
            "2023/07/29 尾 命/躍 \n",
            "2023/07/30 箕 栄/躍 \n",
            "2023/07/31 斗 衰/躍 \n"
          ]
        }
      ]
    },
    {
      "cell_type": "markdown",
      "source": [
        "## Modern Numerology"
      ],
      "metadata": {
        "id": "CYxY-MrMQwxr"
      }
    },
    {
      "cell_type": "code",
      "source": [
        "!cd HoroscoPy/suhi; python make_chart.py --date $DATE --name \"Izumi Kumitaka\""
      ],
      "metadata": {
        "colab": {
          "base_uri": "https://localhost:8080/"
        },
        "id": "QZbYaW95Q9KW",
        "outputId": "22d4297e-b2f9-4cc8-b6ac-b117165c3f08"
      },
      "execution_count": 20,
      "outputs": [
        {
          "output_type": "stream",
          "name": "stdout",
          "text": [
            "B: 6\n",
            "D: 3\n",
            "S: 8\n",
            "P: 4\n",
            "R: 9\n"
          ]
        }
      ]
    }
  ]
}