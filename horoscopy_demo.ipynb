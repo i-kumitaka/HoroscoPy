{
  "nbformat": 4,
  "nbformat_minor": 0,
  "metadata": {
    "colab": {
      "provenance": [],
      "authorship_tag": "ABX9TyPa05188okRKxrseXss/fxd",
      "include_colab_link": true
    },
    "kernelspec": {
      "name": "python3",
      "display_name": "Python 3"
    },
    "language_info": {
      "name": "python"
    }
  },
  "cells": [
    {
      "cell_type": "markdown",
      "metadata": {
        "id": "view-in-github",
        "colab_type": "text"
      },
      "source": [
        "<a href=\"https://colab.research.google.com/github/i-kumitaka/HoroscoPy/blob/master/horoscopy_demo.ipynb\" target=\"_parent\"><img src=\"https://colab.research.google.com/assets/colab-badge.svg\" alt=\"Open In Colab\"/></a>"
      ]
    },
    {
      "cell_type": "markdown",
      "source": [
        "## Preparation"
      ],
      "metadata": {
        "id": "PDE7aPAyQoys"
      }
    },
    {
      "cell_type": "code",
      "execution_count": 1,
      "metadata": {
        "colab": {
          "base_uri": "https://localhost:8080/"
        },
        "id": "VfCdIMjGk3mG",
        "outputId": "99e9acda-e404-442e-b4a8-c7e73a6fec13"
      },
      "outputs": [
        {
          "output_type": "stream",
          "name": "stdout",
          "text": [
            "Cloning into 'HoroscoPy'...\n",
            "remote: Enumerating objects: 2579, done.\u001b[K\n",
            "remote: Counting objects: 100% (2579/2579), done.\u001b[K\n",
            "remote: Compressing objects: 100% (682/682), done.\u001b[K\n",
            "remote: Total 2579 (delta 1985), reused 2470 (delta 1884), pack-reused 0\u001b[K\n",
            "Receiving objects: 100% (2579/2579), 254.03 KiB | 7.26 MiB/s, done.\n",
            "Resolving deltas: 100% (1985/1985), done.\n"
          ]
        }
      ],
      "source": [
        "!git clone https://github.com/i-kumitaka/HoroscoPy.git"
      ]
    },
    {
      "cell_type": "markdown",
      "source": [
        "## Purple Star Astrology"
      ],
      "metadata": {
        "id": "tr8dqjRKQZAz"
      }
    },
    {
      "cell_type": "code",
      "source": [
        "!cd HoroscoPy/shibi; python make_chart.py --date 2000.01.30 --hour 21 --gender male --cal solar --risshun 4"
      ],
      "metadata": {
        "colab": {
          "base_uri": "https://localhost:8080/"
        },
        "id": "F5FQ5WiwlAf0",
        "outputId": "440ce988-67db-45c4-f765-d25a07e56877"
      },
      "execution_count": 4,
      "outputs": [
        {
          "output_type": "stream",
          "name": "stdout",
          "text": [
            "・旧暦生年月日：1999.12.24\n",
            "・五行局：火六局\n",
            "・命主：禄存\n",
            "・身主：天同\n",
            "・子年斗君：子\n",
            "\n",
            "・01　丙寅／命宮\n",
            "　太陽　巨門　\n",
            "　（大限：6 ～ 15 歳）\n",
            "\n",
            "・02　丁卯／父母宮\n",
            "　天相　\n",
            "　左輔　文曲(化忌)　\n",
            "　（大限：116 ～ 125 歳）\n",
            "\n",
            "・03　戊辰／福徳宮\n",
            "　天機|化忌|　天梁(化科)　\n",
            "　陰殺　\n",
            "　（大限：106 ～ 115 歳）\n",
            "\n",
            "・04　己巳／田宅宮　来因宮\n",
            "　紫微<化科>　七殺　\n",
            "　陀羅　天馬　\n",
            "　（大限：96 ～ 105 歳）\n",
            "\n",
            "・05　庚午／官禄宮\n",
            "　禄存　天喜　\n",
            "　（大限：86 ～ 95 歳）\n",
            "\n",
            "・06　辛未／奴僕宮\n",
            "　羊刃　龍池　凰閣　\n",
            "　（大限：76 ～ 85 歳）\n",
            "\n",
            "・07　壬申／遷移宮\n",
            "　天刑　火星　天鉞　\n",
            "　（大限：66 ～ 75 歳）\n",
            "\n",
            "・08　癸酉／疾厄宮\n",
            "　廉貞　破軍|化禄|　\n",
            "　鈴星　\n",
            "　（大限：56 ～ 65 歳）\n",
            "\n",
            "・09　甲戌／財帛宮\n",
            "　地劫　\n",
            "　（大限：46 ～ 55 歳）\n",
            "\n",
            "・10　乙亥／子女宮\n",
            "　天府　\n",
            "　右弼　文昌　\n",
            "　（大限：36 ～ 45 歳）\n",
            "\n",
            "・11　丙子／夫妻宮　身宮\n",
            "　天同<化忌>|化禄|　太陰<化科>　\n",
            "　天姚　天空　天魁　紅鸞　\n",
            "　（大限：26 ～ 35 歳）\n",
            "\n",
            "・12　丁丑／兄弟宮\n",
            "　武曲(化禄)　貪狼(化権)　\n",
            "　（大限：16 ～ 25 歳）\n",
            "\n"
          ]
        }
      ]
    },
    {
      "cell_type": "markdown",
      "source": [
        "## Kubo Biorhythm"
      ],
      "metadata": {
        "id": "986AYx3VEISV"
      }
    },
    {
      "cell_type": "code",
      "source": [
        "!cd HoroscoPy/kubo; python make_chart.py --date 2000.01.30 --hour 21:00"
      ],
      "metadata": {
        "colab": {
          "base_uri": "https://localhost:8080/"
        },
        "id": "si3R6X3qEdzt",
        "outputId": "3056a8ad-62d2-4743-9e4d-a4d0235cb3c9"
      },
      "execution_count": 5,
      "outputs": [
        {
          "output_type": "stream",
          "name": "stdout",
          "text": [
            "年干支：己卯  本命星：一白水星\n",
            "月干支：丁丑  月命星：六白金星\n",
            "日干支：丁亥  日命星：六白金星  午未空亡\n",
            "時干支：辛亥\n",
            "                  12    1    2    3    4    5    6    7    8    9   10   11\n",
            "---------------------------------------------------------------------------\n",
            " Public Month |   12    1    2    3    4    5    6    7    8    9   10   11\n",
            "  Public Year |    4    2    3    4    5    6    7    8    9    1    2    3\n",
            "Private Month |    6    7    8    9   10   11   12    1    2    3    4    5\n",
            " Private Year |   午   未   申   酉   戌   亥   子   丑   寅   卯   辰   巳\n"
          ]
        }
      ]
    },
    {
      "cell_type": "markdown",
      "source": [
        "## Shukuyo"
      ],
      "metadata": {
        "id": "njnMUg7CWpiu"
      }
    },
    {
      "cell_type": "code",
      "source": [
        "!cd HoroscoPy/shuku; python make_chart.py --date 2000.01.30"
      ],
      "metadata": {
        "colab": {
          "base_uri": "https://localhost:8080/"
        },
        "id": "jZYbKU4UWo6n",
        "outputId": "65c756e1-f169-463a-db93-3619696aded0"
      },
      "execution_count": 7,
      "outputs": [
        {
          "output_type": "stream",
          "name": "stdout",
          "text": [
            "尾宿\n",
            "\n",
            "2023/01/15 命宿\n",
            "2023/01/18 意宿\n",
            "2023/02/12 命宿\n",
            "2023/02/15 意宿\n",
            "2023/02/21 事宿\n",
            "2023/02/24 克宿\n",
            "2023/02/27 聚宿\n",
            "2023/03/03 同宿\n",
            "2023/05/07 命宿\n",
            "2023/05/10 意宿\n",
            "2023/05/16 事宿\n",
            "2023/05/19 克宿\n",
            "2023/06/04 命宿\n",
            "2023/06/07 意宿\n",
            "2023/06/13 事宿\n",
            "2023/06/16 克宿\n",
            "2023/06/19 聚宿\n",
            "2023/06/23 同宿\n",
            "2023/07/21 同宿\n",
            "\n",
            "2023/03/01 柳 親/破 甘露日\n",
            "2023/03/02 星 胎/再 \n",
            "2023/03/03 張 栄/再 金剛峯日\n",
            "2023/03/04 翼 衰/再 \n",
            "2023/03/05 軫 安/再 甘露日\n",
            "2023/03/06 角 危/再 \n",
            "2023/03/07 亢 成/再 \n",
            "2023/03/08 底 壊/再 \n",
            "2023/03/09 房 友/再 \n",
            "2023/03/10 心 親/再 \n",
            "2023/03/11 尾 命/躍 \n",
            "2023/03/12 箕 栄/躍 \n",
            "2023/03/13 斗 衰/躍 \n",
            "2023/03/14 女 安/躍 \n",
            "2023/03/15 虚 危/躍 \n",
            "2023/03/16 危 成/躍 \n",
            "2023/03/17 室 壊/躍 \n",
            "2023/03/18 壁 友/躍 \n",
            "2023/03/19 奎 親/躍 \n",
            "2023/03/20 婁 業/破 \n",
            "2023/03/21 胃 栄/破 \n",
            "2023/03/22 奎 親/躍 \n",
            "2023/03/23 婁 業/破 \n",
            "2023/03/24 胃 栄/破 \n",
            "2023/03/25 昴 衰/破 \n",
            "2023/03/26 畢 安/破 \n",
            "2023/03/27 觜 危/破 \n",
            "2023/03/28 参 成/破 \n",
            "2023/03/29 井 壊/破 \n",
            "2023/03/30 鬼 友/破 甘露日\n",
            "2023/03/31 柳 親/破 \n"
          ]
        }
      ]
    },
    {
      "cell_type": "markdown",
      "source": [
        "## Modern Numerology"
      ],
      "metadata": {
        "id": "CYxY-MrMQwxr"
      }
    },
    {
      "cell_type": "code",
      "source": [
        "!cd HoroscoPy/suhi; python make_chart.py --date 2000.01.30 --name \"Izumi Kumitaka\""
      ],
      "metadata": {
        "colab": {
          "base_uri": "https://localhost:8080/"
        },
        "id": "QZbYaW95Q9KW",
        "outputId": "51db1b64-e3c3-4700-9cec-dce914abb106"
      },
      "execution_count": 8,
      "outputs": [
        {
          "output_type": "stream",
          "name": "stdout",
          "text": [
            "B: 6\n",
            "D: 3\n",
            "S: 8\n",
            "P: 4\n",
            "R: 9\n"
          ]
        }
      ]
    }
  ]
}