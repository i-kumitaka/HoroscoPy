{
  "nbformat": 4,
  "nbformat_minor": 0,
  "metadata": {
    "colab": {
      "provenance": [],
      "authorship_tag": "ABX9TyNd/cBExhFP+PlR96k3gk/C",
      "include_colab_link": true
    },
    "kernelspec": {
      "name": "python3",
      "display_name": "Python 3"
    },
    "language_info": {
      "name": "python"
    }
  },
  "cells": [
    {
      "cell_type": "markdown",
      "metadata": {
        "id": "view-in-github",
        "colab_type": "text"
      },
      "source": [
        "<a href=\"https://colab.research.google.com/github/i-kumitaka/HoroscoPy/blob/master/make_purple_star_chart.ipynb\" target=\"_parent\"><img src=\"https://colab.research.google.com/assets/colab-badge.svg\" alt=\"Open In Colab\"/></a>"
      ]
    },
    {
      "cell_type": "code",
      "execution_count": 1,
      "metadata": {
        "colab": {
          "base_uri": "https://localhost:8080/"
        },
        "id": "VfCdIMjGk3mG",
        "outputId": "fa408455-6140-4919-e65a-5188f8ad7777"
      },
      "outputs": [
        {
          "output_type": "stream",
          "name": "stdout",
          "text": [
            "Cloning into 'HoroscoPy'...\n",
            "remote: Enumerating objects: 45, done.\u001b[K\n",
            "remote: Counting objects: 100% (45/45), done.\u001b[K\n",
            "remote: Compressing objects: 100% (32/32), done.\u001b[K\n",
            "remote: Total 45 (delta 7), reused 41 (delta 6), pack-reused 0\u001b[K\n",
            "Unpacking objects: 100% (45/45), done.\n"
          ]
        }
      ],
      "source": [
        "!git clone https://github.com/i-kumitaka/HoroscoPy.git"
      ]
    },
    {
      "cell_type": "code",
      "source": [
        "!cd HoroscoPy/shibi; python make_chart.py --date 2000.01.01 --hour 21 --gender female"
      ],
      "metadata": {
        "colab": {
          "base_uri": "https://localhost:8080/"
        },
        "id": "F5FQ5WiwlAf0",
        "outputId": "c4f422dd-4ba1-46a4-b1a2-119ca5591ef9"
      },
      "execution_count": 3,
      "outputs": [
        {
          "output_type": "stream",
          "name": "stdout",
          "text": [
            "・旧暦生年月日：2000.01.01\n",
            "・五行局：火六局\n",
            "・命主：文曲\n",
            "・身主：天同\n",
            "・子年斗君：亥\n",
            "\n",
            "・01　丁卯／命宮\n",
            "　文曲(化忌)　\n",
            "　（大限：6 ～ 15 歳）\n",
            "\n",
            "・02　戊辰／父母宮\n",
            "　天同　\n",
            "　左輔　\n",
            "　（大限：16 ～ 25 歳）\n",
            "\n",
            "・03　己巳／福徳宮　来因宮\n",
            "　武曲(化禄)|化禄|　破軍　\n",
            "　陀羅　天馬　\n",
            "　（大限：26 ～ 35 歳）\n",
            "\n",
            "・04　庚午／田宅宮\n",
            "　太陽|化禄|　\n",
            "　禄存　天喜　\n",
            "　（大限：36 ～ 45 歳）\n",
            "\n",
            "・05　辛未／官禄宮\n",
            "　天府　\n",
            "　羊刃　龍池　凰閣　\n",
            "　（大限：46 ～ 55 歳）\n",
            "\n",
            "・06　壬申／奴僕宮\n",
            "　天機<化権>　太陰　\n",
            "　火星　天鉞　\n",
            "　（大限：56 ～ 65 歳）\n",
            "\n",
            "・07　癸酉／遷移宮\n",
            "　紫微　貪狼(化権)|化忌|　\n",
            "　天刑　鈴星　\n",
            "　（大限：66 ～ 75 歳）\n",
            "\n",
            "・08　甲戌／疾厄宮\n",
            "　巨門　\n",
            "　右弼<化科>　地劫　\n",
            "　（大限：76 ～ 85 歳）\n",
            "\n",
            "・09　乙亥／財帛宮\n",
            "　天相　\n",
            "　文昌　\n",
            "　（大限：86 ～ 95 歳）\n",
            "\n",
            "・10　丙子／子女宮\n",
            "　天梁(化科)　\n",
            "　天空　天魁　紅鸞　\n",
            "　（大限：96 ～ 105 歳）\n",
            "\n",
            "・11　丁丑／夫妻宮　身宮\n",
            "　廉貞　七殺　\n",
            "　天姚　\n",
            "　（大限：106 ～ 115 歳）\n",
            "\n",
            "・12　丙寅／兄弟宮\n",
            "　陰殺　\n",
            "　（大限：116 ～ 125 歳）\n",
            "\n"
          ]
        }
      ]
    }
  ]
}