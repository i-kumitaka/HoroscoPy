{
  "nbformat": 4,
  "nbformat_minor": 0,
  "metadata": {
    "colab": {
      "provenance": [],
      "authorship_tag": "ABX9TyNPqGmzC32RazhgYojTfSlZ",
      "include_colab_link": true
    },
    "kernelspec": {
      "name": "python3",
      "display_name": "Python 3"
    },
    "language_info": {
      "name": "python"
    }
  },
  "cells": [
    {
      "cell_type": "markdown",
      "metadata": {
        "id": "view-in-github",
        "colab_type": "text"
      },
      "source": [
        "<a href=\"https://colab.research.google.com/github/i-kumitaka/HoroscoPy/blob/master/make_purple_star_chart.ipynb\" target=\"_parent\"><img src=\"https://colab.research.google.com/assets/colab-badge.svg\" alt=\"Open In Colab\"/></a>"
      ]
    },
    {
      "cell_type": "code",
      "execution_count": 1,
      "metadata": {
        "colab": {
          "base_uri": "https://localhost:8080/"
        },
        "id": "VfCdIMjGk3mG",
        "outputId": "d95e36d7-6d22-4d6a-cc29-3f95823ecf99"
      },
      "outputs": [
        {
          "output_type": "stream",
          "name": "stdout",
          "text": [
            "Cloning into 'HoroscoPy'...\n",
            "remote: Enumerating objects: 747, done.\u001b[K\n",
            "remote: Counting objects: 100% (747/747), done.\u001b[K\n",
            "remote: Compressing objects: 100% (231/231), done.\u001b[K\n",
            "remote: Total 747 (delta 598), reused 653 (delta 508), pack-reused 0\u001b[K\n",
            "Receiving objects: 100% (747/747), 66.93 KiB | 1.52 MiB/s, done.\n",
            "Resolving deltas: 100% (598/598), done.\n"
          ]
        }
      ],
      "source": [
        "!git clone https://github.com/i-kumitaka/HoroscoPy.git"
      ]
    },
    {
      "cell_type": "code",
      "source": [
        "!cd HoroscoPy/shibi; python make_chart.py --date 2000.01.01 --hour 21 --gender female --cal solar"
      ],
      "metadata": {
        "colab": {
          "base_uri": "https://localhost:8080/"
        },
        "id": "F5FQ5WiwlAf0",
        "outputId": "30224dc4-93a2-4b37-f0ee-8c3720a5e18c"
      },
      "execution_count": 2,
      "outputs": [
        {
          "output_type": "stream",
          "name": "stdout",
          "text": [
            "・旧暦生年月日：1999.11.25\n",
            "・五行局：水二局\n",
            "・命主：巨門\n",
            "・身主：天同\n",
            "・子年斗君：丑\n",
            "\n",
            "・01　丁丑／命宮\n",
            "　紫微　破軍　\n",
            "　（大限：2 ～ 11 歳）\n",
            "\n",
            "・02　丙寅／父母宮\n",
            "　左輔<化科>　\n",
            "　（大限：12 ～ 21 歳）\n",
            "\n",
            "・03　丁卯／福徳宮\n",
            "　天府　\n",
            "　文曲(化忌)　\n",
            "　（大限：22 ～ 31 歳）\n",
            "\n",
            "・04　戊辰／田宅宮\n",
            "　太陰|化権|　\n",
            "　（大限：32 ～ 41 歳）\n",
            "\n",
            "・05　己巳／官禄宮　来因宮\n",
            "　廉貞　貪狼(化権)|化権|　\n",
            "　陀羅　天馬　\n",
            "　（大限：42 ～ 51 歳）\n",
            "\n",
            "・06　庚午／奴僕宮\n",
            "　巨門　\n",
            "　陰殺　禄存　天喜　\n",
            "　（大限：52 ～ 61 歳）\n",
            "\n",
            "・07　辛未／遷移宮\n",
            "　天相　\n",
            "　天刑　羊刃　龍池　凰閣　\n",
            "　（大限：62 ～ 71 歳）\n",
            "\n",
            "・08　壬申／疾厄宮\n",
            "　天同<化禄>　天梁(化科)|化禄|　\n",
            "　火星　天鉞　\n",
            "　（大限：72 ～ 81 歳）\n",
            "\n",
            "・09　癸酉／財帛宮\n",
            "　武曲(化禄)　七殺　\n",
            "　鈴星　\n",
            "　（大限：82 ～ 91 歳）\n",
            "\n",
            "・10　甲戌／子女宮\n",
            "　太陽|化忌|　\n",
            "　地劫　\n",
            "　（大限：92 ～ 101 歳）\n",
            "\n",
            "・11　乙亥／夫妻宮　身宮\n",
            "　天姚　文昌　\n",
            "　（大限：102 ～ 111 歳）\n",
            "\n",
            "・12　丙子／兄弟宮\n",
            "　天機|化権|　\n",
            "　右弼　天空　天魁　紅鸞　\n",
            "　（大限：112 ～ 121 歳）\n",
            "\n"
          ]
        }
      ]
    }
  ]
}